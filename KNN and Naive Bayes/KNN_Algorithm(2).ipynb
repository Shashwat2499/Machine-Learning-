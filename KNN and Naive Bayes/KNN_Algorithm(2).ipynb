{
 "cells": [
  {
   "cell_type": "markdown",
   "id": "f66c4d42",
   "metadata": {},
   "source": [
    "# Training Data"
   ]
  },
  {
   "cell_type": "code",
   "execution_count": 1,
   "id": "436eb09b",
   "metadata": {},
   "outputs": [],
   "source": [
    "import numpy as np\n",
    "File_data = np.genfromtxt(\"1_2.txt\", dtype=str,usecols=(1,2,3))\n",
    "row = (line.replace('(','').replace(')','') for line in File_data if line)"
   ]
  },
  {
   "cell_type": "code",
   "execution_count": 2,
   "id": "1b5556d0",
   "metadata": {},
   "outputs": [],
   "source": [
    "list1 = []\n",
    "with open('1_2.txt','r') as in_file:\n",
    "    stripped = (line.strip() for line in in_file)\n",
    "    row = (line.replace('(','').replace(')','') for line in stripped if line)\n",
    "    lines = (line.split(\",\") for line in row if line)\n",
    "    for i in lines:\n",
    "        list1.append(i)"
   ]
  },
  {
   "cell_type": "code",
   "execution_count": 3,
   "id": "71e5fee7",
   "metadata": {},
   "outputs": [],
   "source": [
    "a = np.array(list1)\n",
    "rows = [\"{},{},{},{}\".format(i, j, k,l) for i, j, k, l in a]\n",
    "text = \"\\n\".join(rows)\n",
    "\n",
    "with open('train.csv', 'w') as f:\n",
    "    f.write(text)"
   ]
  },
  {
   "cell_type": "code",
   "execution_count": 4,
   "id": "8c2a1e98",
   "metadata": {},
   "outputs": [
    {
     "data": {
      "text/plain": [
       "[['1.6530190426733', ' 72.871146648479', ' 24', ' W'],\n",
       " ['1.6471384909498', ' 72.612785314988', ' 34', ' W'],\n",
       " ['1.6472055785348', ' 73.53968351051', ' 33', ' M'],\n",
       " ['1.7323008914951', ' 76.067870338779', ' 30', ' M'],\n",
       " ['1.6750702657911', ' 81.05582111533', ' 30', ' M'],\n",
       " ['1.5780970716644', ' 64.926084680188', ' 30', ' W'],\n",
       " ['1.6587629355524', ' 69.38092449041', ' 30', ' M'],\n",
       " ['1.6763295980234', ' 77.062295990149', ' 31', ' M'],\n",
       " ['1.7187224085504', ' 62.112923317057', ' 37', ' W'],\n",
       " ['1.5202218226439', ' 66.151444019603', ' 27', ' W'],\n",
       " ['1.5552689261884', ' 66.076386143769', ' 31', ' W'],\n",
       " ['1.6969333189258', ' 77.45386244568', ' 34', ' M'],\n",
       " ['1.6887980792886', ' 76.489640732464', ' 37', ' M'],\n",
       " ['1.5213552893624', ' 63.952944947832', ' 35', ' W']]"
      ]
     },
     "execution_count": 4,
     "metadata": {},
     "output_type": "execute_result"
    }
   ],
   "source": [
    "train = []\n",
    "with open('train.csv', 'r') as file:\n",
    "    for line in file:\n",
    "        string = line.strip()\n",
    "        words = string.split(',')\n",
    "        train.append(words)\n",
    "train"
   ]
  },
  {
   "cell_type": "code",
   "execution_count": 5,
   "id": "8136a4ac",
   "metadata": {},
   "outputs": [
    {
     "data": {
      "text/plain": [
       "['1.6530190426733', ' 72.871146648479', ' 24', ' W']"
      ]
     },
     "execution_count": 5,
     "metadata": {},
     "output_type": "execute_result"
    }
   ],
   "source": [
    "train[0]"
   ]
  },
  {
   "cell_type": "markdown",
   "id": "9165a23d",
   "metadata": {},
   "source": [
    "# Testing Data"
   ]
  },
  {
   "cell_type": "code",
   "execution_count": 6,
   "id": "e920d36d",
   "metadata": {},
   "outputs": [],
   "source": [
    "File_data1 = np.genfromtxt(\"1_2_Test.txt\", dtype=str,usecols=(1,2,3))\n",
    "row = (line.replace('(','').replace(')','') for line in File_data1 if line)"
   ]
  },
  {
   "cell_type": "code",
   "execution_count": 7,
   "id": "e12266ac",
   "metadata": {},
   "outputs": [],
   "source": [
    "list2 = []\n",
    "with open('1_2_Test.txt','r') as in_file:\n",
    "    stripped = (line.strip() for line in in_file)\n",
    "    row = (line.replace('(','').replace(')','') for line in stripped if line)\n",
    "    lines = (line.split(\",\") for line in row if line)\n",
    "    for i in lines:\n",
    "        list2.append(i)"
   ]
  },
  {
   "cell_type": "code",
   "execution_count": 8,
   "id": "e2548ee5",
   "metadata": {},
   "outputs": [],
   "source": [
    "b = np.array(list2)\n",
    "rows = [\"{},{},{}\".format(i, j, k) for i, j, k in b]\n",
    "text = \"\\n\".join(rows)\n",
    " \n",
    "with open('test.csv', 'w') as f:\n",
    "    f.write(text)"
   ]
  },
  {
   "cell_type": "code",
   "execution_count": 9,
   "id": "725c95fe",
   "metadata": {},
   "outputs": [
    {
     "data": {
      "text/plain": [
       "[['1.62065758929', ' 59.376557437583', ' 32'],\n",
       " ['1.7793983848363', ' 72.071775670801', ' 36'],\n",
       " ['1.7004576585974', ' 66.267508112786', ' 31'],\n",
       " ['1.6591086215159', ' 61.751621901787', ' 29']]"
      ]
     },
     "execution_count": 9,
     "metadata": {},
     "output_type": "execute_result"
    }
   ],
   "source": [
    "with open('test.csv', 'r') as file:\n",
    "    test = []\n",
    "    for line in file:\n",
    "        string = line.strip()\n",
    "        words = string.split(',')\n",
    "        test.append(words)\n",
    "test"
   ]
  },
  {
   "cell_type": "markdown",
   "id": "f3a430bc",
   "metadata": {},
   "source": [
    "# Algorithm"
   ]
  },
  {
   "cell_type": "code",
   "execution_count": 10,
   "id": "68b40358",
   "metadata": {},
   "outputs": [],
   "source": [
    "\n",
    "from math import sqrt\n",
    "import numpy as np\n",
    " \n",
    "# Converted string column to float\n",
    "def str_column_to_float(dataset, column):\n",
    "    for row in dataset:\n",
    "        row[column] = float(row[column].strip())\n",
    " \n",
    "# Converted string column to integer\n",
    "def str_column_to_int(dataset, column):\n",
    "    class_values = [row[column] for row in dataset]\n",
    "    unique = set(class_values)\n",
    "    lookup = dict()\n",
    "    for i, value in enumerate(unique):\n",
    "        lookup[value] = i\n",
    "    for row in dataset:\n",
    "        row[column] = lookup[row[column]]\n",
    "    return lookup\n",
    " \n",
    "# Find the min and max values for each column\n",
    "def dataset_minmax(dataset):\n",
    "    minmax = list()\n",
    "    for i in range(len(dataset[0])):\n",
    "        col_values = [row[i] for row in dataset]\n",
    "        value_min = min(col_values)\n",
    "        value_max = max(col_values)\n",
    "        minmax.append([value_min, value_max])\n",
    "    return minmax\n",
    " \n",
    "# Rescaled dataset columns to the range 0-1\n",
    "def normalize_dataset(dataset, minmax):\n",
    "    for row in dataset:\n",
    "        for i in range(len(row)):\n",
    "            row[i] = (row[i] - minmax[i][0]) / (minmax[i][1] - minmax[i][0])\n",
    " \n",
    "# Introduced K folds\n",
    "def cross_validation_split(dataset, n_folds):\n",
    "    dataset_split = list()\n",
    "    dataset_copy = list(dataset)\n",
    "    fold_size = int(len(dataset) / n_folds)\n",
    "    for _ in range(n_folds):\n",
    "        fold = list()\n",
    "        while len(fold) < fold_size:\n",
    "            index = np.random.choice(len(dataset_copy))\n",
    "            fold.append(dataset_copy.pop(index))\n",
    "        dataset_split.append(fold)\n",
    "    return dataset_split\n",
    " \n",
    "# Calculated accuracy percentage\n",
    "def accuracy_metric(actual, predicted):\n",
    "    correct = 0\n",
    "    for i in range(len(actual)):\n",
    "        if actual[i] == predicted[i]:\n",
    "            correct += 1\n",
    "    return correct / float(len(actual)) * 100.0\n",
    " \n",
    "# Evaluated an algorithm using a cross validation split\n",
    "def evaluate_algorithm(dataset, algorithm, n_folds, *args,distance_method):\n",
    "    folds = cross_validation_split(dataset, n_folds)\n",
    "    scores = list()\n",
    "    for fold in folds:\n",
    "        train_set = list(folds)\n",
    "        train_set.remove(fold)\n",
    "        train_set = sum(train_set, [])\n",
    "        test_set = list()\n",
    "        for row in fold:\n",
    "            row_copy = list(row)\n",
    "            test_set.append(row_copy)\n",
    "            if distance_method != 3:\n",
    "                row_copy[-1] = None\n",
    "            else:\n",
    "                pass\n",
    "        predicted = algorithm(train_set, test_set, *args,distance_method)\n",
    "        actual = [row[-1] for row in fold]\n",
    "        accuracy = accuracy_metric(actual, predicted)\n",
    "        scores.append(accuracy)\n",
    "    return scores\n",
    " \n",
    "# Calculated the Euclidean distance between two vectors\n",
    "def euclidean_distance(row1, row2):\n",
    "    distance = 0.0\n",
    "    for i in range(len(row1)-1):\n",
    "        distance += (row1[i] - row2[i])**2\n",
    "    return sqrt(distance)\n",
    "\n",
    "# Calculated the Manhattan distance between two vectors\n",
    "def manhattan_distance(row1,row2):\n",
    "    distance = 0\n",
    "    for i in range(len(row1)-1):\n",
    "        difference = (row1[i]-row2[i])\n",
    "        absolute_difference = abs(difference)\n",
    "        distance += absolute_difference\n",
    "    return distance\n",
    "\n",
    "# Calculated the minkowski distance between two vectors\n",
    "def minkowski_distance(row1, row2, p):\n",
    "    return sum(abs(e1-e2)**p for e1, e2 in zip(row1,row2))**(1/p)\n",
    "\n",
    "# Locate the most similar neighbors\n",
    "def get_neighbors(train_row, test_row, num_neighbors,distance_method):\n",
    "    distances = list()\n",
    "    num_neighbors +=1\n",
    "    for train_row in train:\n",
    "        if distance_method == 1:\n",
    "            dist = euclidean_distance(test_row, train_row)\n",
    "            distances.append((train_row, dist))\n",
    "        elif distance_method == 2:\n",
    "            dist = manhattan_distance(test_row, train_row)\n",
    "            distances.append((train_row, dist))\n",
    "        elif distance_method == 3:\n",
    "            dist = minkowski_distance(test_row,train_row,num_neighbors)\n",
    "            distances.append((train_row, dist))\n",
    "        else:\n",
    "            dist = euclidean_distance(test_row, train_row)\n",
    "            distances.append((train_row, dist))\n",
    "    distances.sort(key=lambda tup: tup[1])\n",
    "    neighbors = list()\n",
    "    for i in range(num_neighbors):\n",
    "        neighbors.append(distances[i][0])\n",
    "    return neighbors\n",
    " \n",
    "# Made a prediction with neighbors\n",
    "def predict_classification(train, test_row, num_neighbors,distance_method):\n",
    "    num_neighbors +=1\n",
    "    neighbors = get_neighbors(train, test_row, num_neighbors,distance_method)\n",
    "    output_values = [row[-1] for row in neighbors]\n",
    "    prediction = max(set(output_values), key=output_values.count)\n",
    "    return prediction\n",
    " \n",
    "# kNN Algorithm\n",
    "def k_nearest_neighbors(train, test, num_neighbors,distance_method):\n",
    "    predictions = list()\n",
    "    num_neighbors +=1\n",
    "    for row in test:\n",
    "        output = predict_classification(train, row, num_neighbors,distance_method)\n",
    "        predictions.append(output)\n",
    "    return(predictions)\n",
    "# Predict the Label\n",
    "def label_predict(label):\n",
    "    if label == 0:\n",
    "        l = 'W'\n",
    "    else:\n",
    "        l='M'\n",
    "    return l"
   ]
  },
  {
   "cell_type": "code",
   "execution_count": 11,
   "id": "aa1f7401",
   "metadata": {},
   "outputs": [],
   "source": [
    "for i in range(len(test[0])):\n",
    "    str_column_to_float(test, i)"
   ]
  },
  {
   "cell_type": "code",
   "execution_count": null,
   "id": "7be3aa8f",
   "metadata": {},
   "outputs": [],
   "source": []
  },
  {
   "cell_type": "markdown",
   "id": "24fdcfd3",
   "metadata": {},
   "source": [
    "# For Value of K=1"
   ]
  },
  {
   "cell_type": "code",
   "execution_count": 12,
   "id": "2d9d8212",
   "metadata": {},
   "outputs": [
    {
     "data": {
      "text/plain": [
       "{' W': 0, ' M': 1}"
      ]
     },
     "execution_count": 12,
     "metadata": {},
     "output_type": "execute_result"
    }
   ],
   "source": [
    "dataset = train\n",
    "for i in range(len(dataset[0])-1):\n",
    "    str_column_to_float(dataset, i)\n",
    "#convert class column to integers\n",
    "str_column_to_int(dataset, len(dataset[0])-1)\n",
    "# evaluate algorithm"
   ]
  },
  {
   "cell_type": "code",
   "execution_count": 13,
   "id": "fbb61b90",
   "metadata": {},
   "outputs": [
    {
     "name": "stdout",
     "output_type": "stream",
     "text": [
      "Eucledian\n",
      "Scores: [66.66666666666666, 100.0, 100.0, 66.66666666666666]\n",
      "Mean Accuracy: 83.333%\n",
      "Manhattan\n",
      "Scores: [33.33333333333333, 100.0, 100.0, 100.0]\n",
      "Mean Accuracy: 83.333%\n",
      "Minkowski\n",
      "Scores: [100.0, 100.0, 100.0, 33.33333333333333]\n",
      "Mean Accuracy: 83.333%\n"
     ]
    }
   ],
   "source": [
    "n_folds = 4\n",
    "num_neighbors = 1\n",
    "scores = evaluate_algorithm(dataset, k_nearest_neighbors, n_folds, num_neighbors,distance_method=1)\n",
    "print('Eucledian')\n",
    "print('Scores: %s' % scores)\n",
    "print('Mean Accuracy: %.3f%%' % (sum(scores)/float(len(scores))))\n",
    "scores = evaluate_algorithm(dataset, k_nearest_neighbors, n_folds, num_neighbors,distance_method=2)\n",
    "print('Manhattan')\n",
    "print('Scores: %s' % scores)\n",
    "print('Mean Accuracy: %.3f%%' % (sum(scores)/float(len(scores))))\n",
    "scores = evaluate_algorithm(dataset, k_nearest_neighbors, n_folds, num_neighbors,distance_method=3)\n",
    "print('Minkowski')\n",
    "print('Scores: %s' % scores)\n",
    "print('Mean Accuracy: %.3f%%' % (sum(scores)/float(len(scores))))"
   ]
  },
  {
   "cell_type": "markdown",
   "id": "be1d48fc",
   "metadata": {},
   "source": [
    "# For Value of K=3"
   ]
  },
  {
   "cell_type": "markdown",
   "id": "9d8176ff",
   "metadata": {},
   "source": []
  },
  {
   "cell_type": "code",
   "execution_count": 14,
   "id": "39bcbe2d",
   "metadata": {},
   "outputs": [
    {
     "name": "stdout",
     "output_type": "stream",
     "text": [
      "Eucledian\n",
      "Scores: [66.66666666666666, 100.0, 66.66666666666666, 66.66666666666666]\n",
      "Mean Accuracy: 75.000%\n",
      "Manhattan\n",
      "Scores: [66.66666666666666, 66.66666666666666, 100.0, 100.0]\n",
      "Mean Accuracy: 83.333%\n",
      "Minkowski\n",
      "Scores: [100.0, 100.0, 33.33333333333333, 100.0]\n",
      "Mean Accuracy: 83.333%\n"
     ]
    }
   ],
   "source": [
    "dataset = train\n",
    "num_neighbors = 3\n",
    "scores = evaluate_algorithm(dataset, k_nearest_neighbors, n_folds, num_neighbors,distance_method=1)\n",
    "print('Eucledian')\n",
    "print('Scores: %s' % scores)\n",
    "print('Mean Accuracy: %.3f%%' % (sum(scores)/float(len(scores))))\n",
    "scores = evaluate_algorithm(dataset, k_nearest_neighbors, n_folds, num_neighbors,distance_method=2)\n",
    "print('Manhattan')\n",
    "print('Scores: %s' % scores)\n",
    "print('Mean Accuracy: %.3f%%' % (sum(scores)/float(len(scores))))\n",
    "scores = evaluate_algorithm(dataset, k_nearest_neighbors, n_folds, num_neighbors,distance_method=3)\n",
    "print('Minkowski')\n",
    "print('Scores: %s' % scores)\n",
    "print('Mean Accuracy: %.3f%%' % (sum(scores)/float(len(scores))))"
   ]
  },
  {
   "cell_type": "markdown",
   "id": "956c6bb7",
   "metadata": {},
   "source": [
    "# # For Value of K= 7"
   ]
  },
  {
   "cell_type": "code",
   "execution_count": 15,
   "id": "ca9cf117",
   "metadata": {},
   "outputs": [
    {
     "name": "stdout",
     "output_type": "stream",
     "text": [
      "Eucledian\n",
      "Scores: [100.0, 66.66666666666666, 100.0, 66.66666666666666]\n",
      "Mean Accuracy: 83.333%\n",
      "Manhattan\n",
      "Scores: [100.0, 66.66666666666666, 66.66666666666666, 100.0]\n",
      "Mean Accuracy: 83.333%\n",
      "Minkowski\n",
      "Scores: [66.66666666666666, 100.0, 66.66666666666666, 100.0]\n",
      "Mean Accuracy: 83.333%\n"
     ]
    }
   ],
   "source": [
    "dataset = train\n",
    "num_neighbors = 7\n",
    "scores = evaluate_algorithm(dataset, k_nearest_neighbors, n_folds, num_neighbors,distance_method=1)\n",
    "print('Eucledian')\n",
    "print('Scores: %s' % scores)\n",
    "print('Mean Accuracy: %.3f%%' % (sum(scores)/float(len(scores))))\n",
    "scores = evaluate_algorithm(dataset, k_nearest_neighbors, n_folds, num_neighbors,distance_method=2)\n",
    "print('Manhattan')\n",
    "print('Scores: %s' % scores)\n",
    "print('Mean Accuracy: %.3f%%' % (sum(scores)/float(len(scores))))\n",
    "scores = evaluate_algorithm(dataset, k_nearest_neighbors, n_folds, num_neighbors,distance_method=3)\n",
    "print('Minkowski')\n",
    "print('Scores: %s' % scores)\n",
    "print('Mean Accuracy: %.3f%%' % (sum(scores)/float(len(scores))))"
   ]
  },
  {
   "cell_type": "markdown",
   "id": "dbd1c6c4",
   "metadata": {},
   "source": [
    "# Program Data"
   ]
  },
  {
   "cell_type": "code",
   "execution_count": 16,
   "id": "b7d8b978",
   "metadata": {},
   "outputs": [],
   "source": [
    "File_data1 = np.genfromtxt(\"PData.txt\", dtype=str,usecols=(1,2,3))\n",
    "row = (line.replace('(','').replace(')','') for line in File_data1 if line)\n",
    "list3 = []\n",
    "with open('PData.txt','r') as in_file:\n",
    "    stripped = (line.strip() for line in in_file)\n",
    "    row = (line.replace('(','').replace(')','') for line in stripped if line)\n",
    "    lines = (line.split(\",\") for line in row if line)\n",
    "    for i in lines:\n",
    "        list3.append(i)\n",
    "c = np.array(list3)\n",
    "rows = [\"{},{},{},{}\".format(i, j, k, l) for i, j, k, l in c]\n",
    "text = \"\\n\".join(rows)\n",
    " \n",
    "with open('pdata.csv', 'w') as f:\n",
    "    f.write(text)\n",
    "with open('pdata.csv', 'r') as file:\n",
    "    pdata = []\n",
    "    for line in file:\n",
    "        string = line.strip()\n",
    "        words = string.split(',')\n",
    "        pdata.append(words)"
   ]
  },
  {
   "cell_type": "code",
   "execution_count": 17,
   "id": "f69ea0b0",
   "metadata": {},
   "outputs": [],
   "source": [
    "pdata_age=[]\n",
    "for i in pdata:\n",
    "    pdata_age.append(i)"
   ]
  },
  {
   "cell_type": "markdown",
   "id": "a785f15f",
   "metadata": {},
   "source": [
    "# Predict The Label For Train Data"
   ]
  },
  {
   "cell_type": "code",
   "execution_count": 18,
   "id": "f351d59a",
   "metadata": {},
   "outputs": [
    {
     "name": "stdout",
     "output_type": "stream",
     "text": [
      "Expected W, Got M.\n",
      "Expected W, Got M.\n",
      "Expected M, Got M.\n",
      "Expected M, Got M.\n",
      "Expected M, Got M.\n",
      "Expected W, Got W.\n",
      "Expected M, Got W.\n",
      "Expected M, Got M.\n",
      "Expected W, Got W.\n",
      "Expected W, Got W.\n",
      "Expected W, Got W.\n",
      "Expected M, Got M.\n",
      "Expected M, Got M.\n",
      "Expected W, Got W.\n"
     ]
    }
   ],
   "source": [
    "# predict the label\n",
    "dataset = train\n",
    "for i in range(len(train)):\n",
    "    label = predict_classification(train, train[i], 1,distance_method='manhattan')\n",
    "    #print('Data=%s, Predicted: %s' % (train[i], label_predict(label)))\n",
    "    print('Expected %s, Got %s.' % (label_predict(dataset[i][-1]), label_predict(label)))"
   ]
  },
  {
   "cell_type": "markdown",
   "id": "e93ead1c",
   "metadata": {},
   "source": [
    "# Predict The Label for Test Data"
   ]
  },
  {
   "cell_type": "code",
   "execution_count": null,
   "id": "8ffef1e0",
   "metadata": {},
   "outputs": [],
   "source": []
  },
  {
   "cell_type": "markdown",
   "id": "0066576a",
   "metadata": {},
   "source": [
    "#  When K is 1"
   ]
  },
  {
   "cell_type": "code",
   "execution_count": 19,
   "id": "1977a448",
   "metadata": {},
   "outputs": [],
   "source": [
    "eu =[]\n",
    "for i in range(len(test)):\n",
    "    label = predict_classification(train, test[i], 1,distance_method=1)\n",
    "    #print('Data=%s, Predicted: %s' % (train[i], label_predict(label)))\n",
    "    eu.append(label_predict(label))"
   ]
  },
  {
   "cell_type": "code",
   "execution_count": 20,
   "id": "b828f066",
   "metadata": {},
   "outputs": [],
   "source": [
    "man = []\n",
    "for i in range(len(test)):\n",
    "    label = predict_classification(train, test[i], 1,distance_method=2)\n",
    "    #print('Data=%s, Predicted: %s' % (train[i], label_predict(label)))\n",
    "    man.append(label_predict(label))"
   ]
  },
  {
   "cell_type": "code",
   "execution_count": 21,
   "id": "eec2c1f0",
   "metadata": {},
   "outputs": [
    {
     "name": "stdout",
     "output_type": "stream",
     "text": [
      "For k = 1, Metric = Eucledian --> ['W', 'W', 'W', 'W']\n",
      "For k = 1, Metric = Manhattan --> ['W', 'W', 'W', 'W']\n",
      "For k = 1, Metric = Minkowski --> ['W', 'M', 'W', 'W']\n"
     ]
    }
   ],
   "source": [
    "min = []\n",
    "for i in range(len(test)):\n",
    "    label = predict_classification(train, test[i], 1,distance_method=3)\n",
    "    #print('Data=%s, Predicted: %s' % (train[i], label_predict(label)))\n",
    "    min.append(label_predict(label))\n",
    "    \n",
    "print(f'For k = 1, Metric = Eucledian --> {eu}')\n",
    "print(f'For k = 1, Metric = Manhattan --> {man}')\n",
    "print(f'For k = 1, Metric = Minkowski --> {min}')"
   ]
  },
  {
   "cell_type": "markdown",
   "id": "cf906708",
   "metadata": {},
   "source": [
    "# When k =3 "
   ]
  },
  {
   "cell_type": "code",
   "execution_count": 22,
   "id": "c97df172",
   "metadata": {},
   "outputs": [
    {
     "name": "stdout",
     "output_type": "stream",
     "text": [
      "For k = 3, Metric = Eucledian --> ['W', 'M', 'W', 'W']\n",
      "For k = 3, Metric = Manhattan --> ['W', 'M', 'W', 'W']\n",
      "For k = 3, Metric = Minkowski --> ['W', 'M', 'W', 'W']\n"
     ]
    }
   ],
   "source": [
    "eu =[]\n",
    "for i in range(len(test)):\n",
    "    label = predict_classification(train, test[i], 3,distance_method=1)\n",
    "    #print('Data=%s, Predicted: %s' % (train[i], label_predict(label)))\n",
    "    eu.append(label_predict(label))\n",
    "man = []\n",
    "for i in range(len(test)):\n",
    "    label = predict_classification(train, test[i], 3,distance_method=2)\n",
    "    #print('Data=%s, Predicted: %s' % (train[i], label_predict(label)))\n",
    "    man.append(label_predict(label))\n",
    "min = []\n",
    "for i in range(len(test)):\n",
    "    label = predict_classification(train, test[i], 3,distance_method=3)\n",
    "    #print('Data=%s, Predicted: %s' % (train[i], label_predict(label)))\n",
    "    min.append(label_predict(label))\n",
    "    \n",
    "print(f'For k = 3, Metric = Eucledian --> {eu}')\n",
    "print(f'For k = 3, Metric = Manhattan --> {man}')\n",
    "print(f'For k = 3, Metric = Minkowski --> {min}')"
   ]
  },
  {
   "cell_type": "markdown",
   "id": "b0d0db41",
   "metadata": {},
   "source": [
    "# When k=7"
   ]
  },
  {
   "cell_type": "code",
   "execution_count": 23,
   "id": "d8de5236",
   "metadata": {},
   "outputs": [
    {
     "name": "stdout",
     "output_type": "stream",
     "text": [
      "For k = 7, Metric = Eucledian --> ['W', 'M', 'W', 'W']\n",
      "For k = 7, Metric = Manhattan --> ['W', 'M', 'W', 'W']\n",
      "For k = 7, Metric = Minkowski --> ['W', 'M', 'W', 'W']\n"
     ]
    }
   ],
   "source": [
    "eu =[]\n",
    "for i in range(len(test)):\n",
    "    label = predict_classification(train, test[i], 7,distance_method=1)\n",
    "    #print('Data=%s, Predicted: %s' % (train[i], label_predict(label)))\n",
    "    eu.append(label_predict(label))\n",
    "man = []\n",
    "for i in range(len(test)):\n",
    "    label = predict_classification(train, test[i], 7,distance_method=2)\n",
    "    #print('Data=%s, Predicted: %s' % (train[i], label_predict(label)))\n",
    "    man.append(label_predict(label))\n",
    "min = []\n",
    "for i in range(len(test)):\n",
    "    label = predict_classification(train, test[i], 7,distance_method=3)\n",
    "    #print('Data=%s, Predicted: %s' % (train[i], label_predict(label)))\n",
    "    min.append(label_predict(label))\n",
    "    \n",
    "print(f'For k = 7, Metric = Eucledian --> {eu}')\n",
    "print(f'For k = 7, Metric = Manhattan --> {man}')\n",
    "print(f'For k = 7, Metric = Minkowski --> {min}')"
   ]
  },
  {
   "cell_type": "markdown",
   "id": "78741d52",
   "metadata": {},
   "source": [
    "# Execute the Program Data for Score and Accuracy"
   ]
  },
  {
   "cell_type": "code",
   "execution_count": 24,
   "id": "6b84f74d",
   "metadata": {},
   "outputs": [
    {
     "name": "stdout",
     "output_type": "stream",
     "text": [
      "Scores: [58.333333333333336, 83.33333333333334, 66.66666666666666, 41.66666666666667, 62.5]\n",
      "Mean Accuracy: 62.500%\n"
     ]
    }
   ],
   "source": [
    "dataset = pdata\n",
    "for i in range(len(dataset[0])-1):\n",
    "    str_column_to_float(dataset, i)\n",
    "# convert class column to integers\n",
    "str_column_to_int(dataset, len(dataset[0])-1)\n",
    "# evaluate algorithm\n",
    "n_folds = 5\n",
    "num_neighbors = 1\n",
    "scores = evaluate_algorithm(dataset, k_nearest_neighbors, n_folds, num_neighbors,distance_method='manhattan')\n",
    "print('Scores: %s' % scores)\n",
    "print('Mean Accuracy: %.3f%%' % (sum(scores)/float(len(scores))))"
   ]
  },
  {
   "cell_type": "markdown",
   "id": "9cc04760",
   "metadata": {},
   "source": [
    "# For value of k is 1,3,5,7,9,11 The Accuracy are"
   ]
  },
  {
   "cell_type": "code",
   "execution_count": 25,
   "id": "dddcb189",
   "metadata": {},
   "outputs": [
    {
     "name": "stdout",
     "output_type": "stream",
     "text": [
      "For k =1, Accuracy =62.5\n",
      "For k =3, Accuracy =58.33333333333333\n",
      "For k =5, Accuracy =58.33333333333333\n",
      "For k =7, Accuracy =60.83333333333333\n",
      "For k =9, Accuracy =59.16666666666667\n",
      "For k =11, Accuracy =55.0\n"
     ]
    }
   ],
   "source": [
    "for i in range (1,12,2):\n",
    "    num_neighbors = i\n",
    "    scores = evaluate_algorithm(dataset, k_nearest_neighbors, n_folds, num_neighbors,distance_method=1)\n",
    "    accuracy =(sum(scores)/float(len(scores)))\n",
    "    print(f'For k ={i}, Accuracy ={accuracy}')\n",
    "   # print('Accuracy: %.3f%%' % (sum(scores)/float(len(scores))))"
   ]
  },
  {
   "cell_type": "markdown",
   "id": "37fa710e",
   "metadata": {},
   "source": [
    "# Remove the Age Column"
   ]
  },
  {
   "cell_type": "code",
   "execution_count": 26,
   "id": "c358ad41",
   "metadata": {},
   "outputs": [],
   "source": [
    "for i in range(len(pdata_age)):\n",
    "    for j in range(len(pdata_age[i])):\n",
    "        if j == 2:\n",
    "            del pdata_age[i][2]"
   ]
  },
  {
   "cell_type": "code",
   "execution_count": 27,
   "id": "96c372c4",
   "metadata": {},
   "outputs": [
    {
     "data": {
      "text/plain": [
       "120"
      ]
     },
     "execution_count": 27,
     "metadata": {},
     "output_type": "execute_result"
    }
   ],
   "source": [
    "len(pdata_age)"
   ]
  },
  {
   "cell_type": "code",
   "execution_count": 28,
   "id": "329775a0",
   "metadata": {},
   "outputs": [
    {
     "name": "stdout",
     "output_type": "stream",
     "text": [
      "Scores: [58.333333333333336, 50.0, 75.0, 54.166666666666664, 54.166666666666664]\n",
      "Mean Accuracy: 58.333%\n"
     ]
    }
   ],
   "source": [
    "dataset = pdata_age\n",
    "\n",
    "# evaluate algorithm\n",
    "n_folds = 5\n",
    "num_neighbors = 3\n",
    "scores = evaluate_algorithm(dataset, k_nearest_neighbors, n_folds, num_neighbors,distance_method=2)\n",
    "print('Scores: %s' % scores)\n",
    "print('Mean Accuracy: %.3f%%' % (sum(scores)/float(len(scores))))"
   ]
  },
  {
   "cell_type": "markdown",
   "id": "d0fabb5c",
   "metadata": {},
   "source": [
    "# Predict The Test after the droping the Age olumn"
   ]
  },
  {
   "cell_type": "code",
   "execution_count": 29,
   "id": "160ce06e",
   "metadata": {},
   "outputs": [
    {
     "data": {
      "text/plain": [
       "['W', 'M', 'W', 'W']"
      ]
     },
     "execution_count": 29,
     "metadata": {},
     "output_type": "execute_result"
    }
   ],
   "source": [
    "eu = []\n",
    "for i in range(len(test)):\n",
    "    label = predict_classification(pdata_age, test[i], 5,distance_method=1)\n",
    "    #print('Data=%s, Predicted: %s' % (train[i], label_predict(label)))\n",
    "    eu.append(label_predict(label))\n",
    "    #print('Expected %s, Got %s.' % (label_predict(train[i][-1]), label_predict(label)))\n",
    "eu"
   ]
  },
  {
   "cell_type": "markdown",
   "id": "724000e7",
   "metadata": {},
   "source": [
    "# Input the Text File"
   ]
  },
  {
   "cell_type": "code",
   "execution_count": null,
   "id": "1844b6db",
   "metadata": {},
   "outputs": [],
   "source": [
    "txt_file = input('Enter the path of the text file')\n",
    "print(txt_file)"
   ]
  },
  {
   "cell_type": "code",
   "execution_count": null,
   "id": "85f060b1",
   "metadata": {},
   "outputs": [],
   "source": [
    "File_data = np.genfromtxt(txt_file, dtype=str,usecols=(1,2,3))\n",
    "row = (line.replace('(','').replace(')','') for line in File_data if line)\n",
    "\n",
    "list2 = []\n",
    "with open(txt_file,'r') as in_file:\n",
    "    stripped = (line.strip() for line in in_file)\n",
    "    row = (line.replace('(','').replace(')','') for line in stripped if line)\n",
    "    lines = (line.split(\",\") for line in row if line)\n",
    "    for i in lines:\n",
    "        list2.append(i)\n",
    "        \n",
    "b = np.array(list2)\n",
    "rows = [\"{},{},{},{}\".format(i, j, k,l) for i, j, k,l in b]\n",
    "text = \"\\n\".join(rows)"
   ]
  },
  {
   "cell_type": "markdown",
   "id": "e1395cce",
   "metadata": {},
   "source": [
    "# Export the csv file user defined"
   ]
  },
  {
   "cell_type": "code",
   "execution_count": null,
   "id": "696cb987",
   "metadata": {},
   "outputs": [],
   "source": [
    "name = input('Enter the csv filename')\n",
    "filename = '%s.csv' % name"
   ]
  },
  {
   "cell_type": "code",
   "execution_count": null,
   "id": "50ed8934",
   "metadata": {},
   "outputs": [],
   "source": [
    "with open(filename, 'w') as f:\n",
    "    f.write(text)\n",
    "\n",
    "with open(filename, 'r') as file:\n",
    "    pdata = []\n",
    "    for line in file:\n",
    "        string = line.strip()\n",
    "        words = string.split(',')\n",
    "        pdata.append(words)"
   ]
  },
  {
   "cell_type": "markdown",
   "id": "e54eb91d",
   "metadata": {},
   "source": [
    "# User Defined Inputs"
   ]
  },
  {
   "cell_type": "code",
   "execution_count": null,
   "id": "54550bcb",
   "metadata": {},
   "outputs": [],
   "source": [
    "num_neighbors = int(input('Enter the value of k = '))\n",
    "print('Type Distance Method for Algo from [ Eucledian , Manhattan, Minkowski ]')\n",
    "distance_method = input('Enter the Algo name from above')\n",
    "\n",
    "scores = evaluate_algorithm(dataset, k_nearest_neighbors, n_folds, num_neighbors,distance_method=distance_method)\n",
    "print(num_neighbors,distance_method)\n",
    "print('Scores: %s' % scores)\n",
    "print('Mean Accuracy: %.3f%%' % (sum(scores)/float(len(scores))))"
   ]
  },
  {
   "cell_type": "code",
   "execution_count": null,
   "id": "3e825915",
   "metadata": {},
   "outputs": [],
   "source": []
  },
  {
   "cell_type": "code",
   "execution_count": null,
   "id": "39396f9e",
   "metadata": {},
   "outputs": [],
   "source": []
  },
  {
   "cell_type": "code",
   "execution_count": null,
   "id": "089bcee9",
   "metadata": {},
   "outputs": [],
   "source": []
  }
 ],
 "metadata": {
  "kernelspec": {
   "display_name": "Python 3 (ipykernel)",
   "language": "python",
   "name": "python3"
  },
  "language_info": {
   "codemirror_mode": {
    "name": "ipython",
    "version": 3
   },
   "file_extension": ".py",
   "mimetype": "text/x-python",
   "name": "python",
   "nbconvert_exporter": "python",
   "pygments_lexer": "ipython3",
   "version": "3.9.12"
  }
 },
 "nbformat": 4,
 "nbformat_minor": 5
}
