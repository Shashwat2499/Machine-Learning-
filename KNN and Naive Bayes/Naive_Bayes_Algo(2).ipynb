{
 "cells": [
  {
   "cell_type": "markdown",
   "id": "4913c166",
   "metadata": {},
   "source": [
    "# Training Data"
   ]
  },
  {
   "cell_type": "code",
   "execution_count": 10,
   "id": "2c33de13",
   "metadata": {},
   "outputs": [],
   "source": [
    "import numpy as np\n",
    "File_data = np.genfromtxt(\"1_2.txt\", dtype=str,usecols=(1,2,3))\n",
    "row = (line.replace('(','').replace(')','') for line in File_data if line)\n",
    "\n",
    "list1 = []\n",
    "with open('1_2.txt','r') as in_file:\n",
    "    stripped = (line.strip() for line in in_file)\n",
    "    row = (line.replace('(','').replace(')','') for line in stripped if line)\n",
    "    lines = (line.split(\",\") for line in row if line)\n",
    "    for i in lines:\n",
    "        list1.append(i)\n",
    "\n",
    "a = np.array(list1)\n",
    "rows = [\"{},{},{},{}\".format(i, j, k,l) for i, j, k, l in a]\n",
    "text = \"\\n\".join(rows)\n",
    "\n",
    "with open('train.csv', 'w') as f:\n",
    "    f.write(text)\n",
    "\n",
    "train = []\n",
    "with open('train.csv', 'r') as file:\n",
    "    for line in file:\n",
    "        string = line.strip()\n",
    "        words = string.split(',')\n",
    "        train.append(words)"
   ]
  },
  {
   "cell_type": "markdown",
   "id": "536ffd71",
   "metadata": {},
   "source": [
    "# Testing Data"
   ]
  },
  {
   "cell_type": "code",
   "execution_count": 11,
   "id": "86783ea3",
   "metadata": {},
   "outputs": [],
   "source": [
    "File_data1 = np.genfromtxt(\"1_2_Test.txt\", dtype=str,usecols=(1,2,3))\n",
    "row = (line.replace('(','').replace(')','') for line in File_data1 if line)\n",
    "\n",
    "list2 = []\n",
    "with open('1_2_Test.txt','r') as in_file:\n",
    "    stripped = (line.strip() for line in in_file)\n",
    "    row = (line.replace('(','').replace(')','') for line in stripped if line)\n",
    "    lines = (line.split(\",\") for line in row if line)\n",
    "    for i in lines:\n",
    "        list2.append(i)\n",
    "\n",
    "b = np.array(list2)\n",
    "rows = [\"{},{},{}\".format(i, j, k) for i, j, k in b]\n",
    "text = \"\\n\".join(rows)\n",
    " \n",
    "with open('test.csv', 'w') as f:\n",
    "    f.write(text)\n",
    "\n",
    "with open('test.csv', 'r') as file:\n",
    "    test = []\n",
    "    for line in file:\n",
    "        string = line.strip()\n",
    "        words = string.split(',')\n",
    "        test.append(words)"
   ]
  },
  {
   "cell_type": "markdown",
   "id": "e9747a54",
   "metadata": {},
   "source": [
    "# ALgorithm"
   ]
  },
  {
   "cell_type": "code",
   "execution_count": 12,
   "id": "8bf988ed",
   "metadata": {},
   "outputs": [],
   "source": [
    "from math import sqrt\n",
    "from math import exp\n",
    "from math import pi\n",
    " \n",
    "# Convert string column to float\n",
    "def str_column_to_float(dataset, column):\n",
    "    for row in dataset:\n",
    "        row[column] = float(row[column].strip())\n",
    " \n",
    "# Convert string column to integer\n",
    "def str_column_to_int(dataset, column):\n",
    "    class_values = [row[column] for row in dataset]\n",
    "    unique = set(class_values)\n",
    "    lookup = dict()\n",
    "    for i, value in enumerate(unique):\n",
    "        lookup[value] = i\n",
    "    for row in dataset:\n",
    "        row[column] = lookup[row[column]]\n",
    "    return lookup\n",
    " \n",
    "# Split a dataset into k folds\n",
    "def cross_validation_split(dataset, n_folds):\n",
    "    dataset_split = list()\n",
    "    dataset_copy = list(dataset)\n",
    "    fold_size = int(len(dataset) / n_folds)\n",
    "    for _ in range(n_folds):\n",
    "        fold = list()\n",
    "        while len(fold) < fold_size:\n",
    "            index = np.random.choice(len(dataset_copy))\n",
    "            fold.append(dataset_copy.pop(index))\n",
    "        dataset_split.append(fold)\n",
    "    return dataset_split\n",
    " \n",
    "# Calculate accuracy percentage\n",
    "def accuracy_metric(actual, predicted):\n",
    "    correct = 0\n",
    "    for i in range(len(actual)):\n",
    "        if actual[i] == predicted[i]:\n",
    "            correct += 1\n",
    "    return correct / float(len(actual)) * 100.0\n",
    " \n",
    "# Evaluate an algorithm using a cross validation split\n",
    "def evaluate_algorithm(dataset, algorithm, n_folds, *args):\n",
    "    folds = cross_validation_split(dataset, n_folds)\n",
    "    scores = list()\n",
    "    for fold in folds:\n",
    "        train_set = list(folds)\n",
    "        train_set.remove(fold)\n",
    "        train_set = sum(train_set, [])\n",
    "        test_set = list()\n",
    "        for row in fold:\n",
    "            row_copy = list(row)\n",
    "            test_set.append(row_copy)\n",
    "            row_copy[-1] = None\n",
    "        predicted = algorithm(train_set, test_set, *args)\n",
    "        actual = [row[-1] for row in fold]\n",
    "        accuracy = accuracy_metric(actual, predicted)\n",
    "        scores.append(accuracy)\n",
    "    return scores\n",
    " \n",
    "# Split the dataset by class values, returns a dictionary\n",
    "def separate_by_class(dataset):\n",
    "    separated = dict()\n",
    "    for i in range(len(dataset)):\n",
    "        vector = dataset[i]\n",
    "        class_value = vector[-1]\n",
    "        if (class_value not in separated):\n",
    "            separated[class_value] = list()\n",
    "        separated[class_value].append(vector)\n",
    "    return separated\n",
    " \n",
    "# Calculate the mean of a list of numbers\n",
    "def mean(numbers):\n",
    "    return sum(numbers)/float(len(numbers))\n",
    " \n",
    "# Calculate the standard deviation of a list of numbers\n",
    "def stdev(numbers):\n",
    "    avg = mean(numbers)\n",
    "    variance = sum([(x-avg)**2 for x in numbers]) / float(len(numbers)-1)\n",
    "    return sqrt(variance)\n",
    " \n",
    "# Calculate the mean, stdev and count for each column in a dataset\n",
    "def summarize_dataset(dataset):\n",
    "    summaries = [(mean(column), stdev(column), len(column)) for column in zip(*dataset)]\n",
    "    del(summaries[-1])\n",
    "    return summaries\n",
    " \n",
    "# Split dataset by class then calculate statistics for each row\n",
    "def summarize_by_class(dataset):\n",
    "    separated = separate_by_class(dataset)\n",
    "    summaries = dict()\n",
    "    for class_value, rows in separated.items():\n",
    "        summaries[class_value] = summarize_dataset(rows)\n",
    "    return summaries\n",
    " \n",
    "# Calculate the Gaussian probability distribution function for x\n",
    "def calculate_probability(x, mean, stdev):\n",
    "    exponent = exp(-((x-mean)**2 / (2 * stdev**2 )))\n",
    "    return (1 / (sqrt(2 * pi) * stdev)) * exponent\n",
    " \n",
    "# Calculate the probabilities of predicting each class for a given row\n",
    "def calculate_class_probabilities(summaries, row):\n",
    "    total_rows = sum([summaries[label][0][2] for label in summaries])\n",
    "    #print([summaries[label][0][2] for label in summaries])\n",
    "    probabilities = dict()\n",
    "    for class_value, class_summaries in summaries.items():\n",
    "        probabilities[class_value] = summaries[class_value][0][2]/float(total_rows)\n",
    "        for i in range(len(class_summaries)):\n",
    "            mean, stdev, _ = class_summaries[i]\n",
    "            probabilities[class_value] *= calculate_probability(row[i], mean, stdev)\n",
    "    return probabilities\n",
    " \n",
    "# Predict the class for a given row\n",
    "def predict(summaries, row):\n",
    "    probabilities = calculate_class_probabilities(summaries, row)\n",
    "    best_label, best_prob = None, -1\n",
    "    for class_value, probability in probabilities.items():\n",
    "        if best_label is None or probability > best_prob:\n",
    "            best_prob = probability\n",
    "            best_label = class_value\n",
    "    return best_label\n",
    " \n",
    "# Naive Bayes Algorithm\n",
    "def naive_bayes(train, test):\n",
    "    summarize = summarize_by_class(train)\n",
    "    predictions = list()\n",
    "    for row in test:\n",
    "        output = predict(summarize, row)\n",
    "        predictions.append(output)\n",
    "    return(predictions)\n",
    "\n",
    "# Predict the Label\n",
    "def label_predict(label):\n",
    "    if label == 0:\n",
    "        l = 'W'\n",
    "    else:\n",
    "        l='M'\n",
    "    return l"
   ]
  },
  {
   "cell_type": "markdown",
   "id": "33824b2c",
   "metadata": {},
   "source": [
    "# Execution"
   ]
  },
  {
   "cell_type": "code",
   "execution_count": 13,
   "id": "1e52ef75",
   "metadata": {},
   "outputs": [
    {
     "data": {
      "text/plain": [
       "{' W': 0, ' M': 1}"
      ]
     },
     "execution_count": 13,
     "metadata": {},
     "output_type": "execute_result"
    }
   ],
   "source": [
    "dataset = train\n",
    "for i in range(len(dataset[0])-1):\n",
    "    str_column_to_float(dataset, i)\n",
    "# convert class column to integers\n",
    "str_column_to_int(dataset, len(dataset[0])-1)\n",
    "# evaluate algorithm\n",
    "# evaluate algorithm\n"
   ]
  },
  {
   "cell_type": "code",
   "execution_count": 14,
   "id": "6c27a3d5",
   "metadata": {},
   "outputs": [
    {
     "name": "stdout",
     "output_type": "stream",
     "text": [
      "Scores: [100.0, 50.0, 100.0, 100.0, 50.0, 100.0, 50.0]\n",
      "Mean Accuracy: 78.571%\n"
     ]
    }
   ],
   "source": [
    "n_folds = 7\n",
    "scores = evaluate_algorithm(dataset, naive_bayes, n_folds)\n",
    "print('Scores: %s' % scores)\n",
    "print('Mean Accuracy: %.3f%%' % (sum(scores)/float(len(scores))))"
   ]
  },
  {
   "cell_type": "code",
   "execution_count": 15,
   "id": "794ccf19",
   "metadata": {},
   "outputs": [],
   "source": [
    "# fit model\n",
    "model = summarize_by_class(dataset)"
   ]
  },
  {
   "cell_type": "markdown",
   "id": "f561b1f6",
   "metadata": {},
   "source": [
    "# Prediction"
   ]
  },
  {
   "cell_type": "code",
   "execution_count": 16,
   "id": "4f90e215",
   "metadata": {},
   "outputs": [],
   "source": [
    "dataset = test\n",
    "for i in range(len(dataset[0])):\n",
    "    str_column_to_float(dataset, i)"
   ]
  },
  {
   "cell_type": "code",
   "execution_count": 17,
   "id": "49780663",
   "metadata": {},
   "outputs": [
    {
     "data": {
      "text/plain": [
       "['W', 'W', 'W', 'W']"
      ]
     },
     "execution_count": 17,
     "metadata": {},
     "output_type": "execute_result"
    }
   ],
   "source": [
    "# predict the label\n",
    "pred = []\n",
    "for i in range(len(dataset)):\n",
    "    label = predict(model, dataset[i])\n",
    "    pred.append(label_predict(label))\n",
    "pred"
   ]
  },
  {
   "cell_type": "markdown",
   "id": "537b7664",
   "metadata": {},
   "source": [
    "# Program Data"
   ]
  },
  {
   "cell_type": "code",
   "execution_count": 18,
   "id": "b5535f2c",
   "metadata": {},
   "outputs": [],
   "source": [
    "File_data1 = np.genfromtxt(\"PData.txt\", dtype=str,usecols=(1,2,3))\n",
    "row = (line.replace('(','').replace(')','') for line in File_data1 if line)\n",
    "list3 = []\n",
    "with open('PData.txt','r') as in_file:\n",
    "    stripped = (line.strip() for line in in_file)\n",
    "    row = (line.replace('(','').replace(')','') for line in stripped if line)\n",
    "    lines = (line.split(\",\") for line in row if line)\n",
    "    for i in lines:\n",
    "        list3.append(i)\n",
    "c = np.array(list3)\n",
    "rows = [\"{},{},{},{}\".format(i, j, k, l) for i, j, k, l in c]\n",
    "text = \"\\n\".join(rows)\n",
    " \n",
    "with open('pdata.csv', 'w') as f:\n",
    "    f.write(text)\n",
    "with open('pdata.csv', 'r') as file:\n",
    "    pdata = []\n",
    "    for line in file:\n",
    "        string = line.strip()\n",
    "        words = string.split(',')\n",
    "        pdata.append(words)"
   ]
  },
  {
   "cell_type": "code",
   "execution_count": 19,
   "id": "a6334403",
   "metadata": {},
   "outputs": [],
   "source": [
    "pdata_age=[]\n",
    "for i in pdata:\n",
    "    pdata_age.append(i)"
   ]
  },
  {
   "cell_type": "markdown",
   "id": "9b1c0c94",
   "metadata": {},
   "source": [
    "# Leave one out with kfolds"
   ]
  },
  {
   "cell_type": "code",
   "execution_count": 20,
   "id": "49ad3871",
   "metadata": {},
   "outputs": [
    {
     "name": "stdout",
     "output_type": "stream",
     "text": [
      "Scores: [66.66666666666666, 68.33333333333333]\n",
      "Mean Accuracy: 67.500%\n",
      "Scores: [73.33333333333333, 63.33333333333333, 80.0, 63.33333333333333]\n",
      "Mean Accuracy: 70.000%\n",
      "Scores: [75.0, 80.0, 65.0, 70.0, 70.0, 65.0]\n",
      "Mean Accuracy: 70.833%\n",
      "Scores: [73.33333333333333, 66.66666666666666, 66.66666666666666, 80.0, 73.33333333333333, 86.66666666666667, 66.66666666666666, 66.66666666666666]\n",
      "Mean Accuracy: 72.500%\n",
      "Scores: [50.0, 75.0, 58.333333333333336, 75.0, 75.0, 75.0, 75.0, 66.66666666666666, 75.0, 58.333333333333336]\n",
      "Mean Accuracy: 68.333%\n"
     ]
    }
   ],
   "source": [
    "dataset = pdata\n",
    "for i in range(len(dataset[0])-1):\n",
    "    str_column_to_float(dataset, i)\n",
    "# convert class column to integers\n",
    "str_column_to_int(dataset, len(dataset[0])-1)\n",
    "# evaluate algorithm\n",
    "# evaluate algorithm\n",
    "for i in range(2,12,2):\n",
    "    n_folds = i\n",
    "    scores = evaluate_algorithm(dataset, naive_bayes, n_folds)\n",
    "    print('Scores: %s' % scores)\n",
    "    print('Mean Accuracy: %.3f%%' % (sum(scores)/float(len(scores))))"
   ]
  },
  {
   "cell_type": "markdown",
   "id": "bf14e105",
   "metadata": {},
   "source": [
    "# Remove the Age Column"
   ]
  },
  {
   "cell_type": "code",
   "execution_count": 21,
   "id": "0cb464b8",
   "metadata": {},
   "outputs": [],
   "source": [
    "for i in range(len(pdata_age)):\n",
    "    for j in range(len(pdata_age[i])):\n",
    "        if j == 2:\n",
    "            del pdata_age[i][2]\n"
   ]
  },
  {
   "cell_type": "code",
   "execution_count": 22,
   "id": "852df4b8",
   "metadata": {},
   "outputs": [
    {
     "data": {
      "text/plain": [
       "[[1.5963600450124, 75.717194178189, 0],\n",
       " [1.6990610819676, 83.477307503684, 1],\n",
       " [1.5052092436, 74.642420817737, 0],\n",
       " [1.5738635789008, 78.562465284603, 1],\n",
       " [1.796178772769, 74.566117057707, 1],\n",
       " [1.6274618774347, 82.250591567161, 0],\n",
       " [1.6396843250708, 71.37567170848, 0],\n",
       " [1.538505823668, 77.418902097029, 0],\n",
       " [1.6488692005889, 76.333044488477, 0],\n",
       " [1.7233804613095, 85.812112126306, 1],\n",
       " [1.7389100516771, 76.424421782215, 0],\n",
       " [1.5775696242624, 77.201404139171, 0],\n",
       " [1.7359417237856, 77.004988515324, 1],\n",
       " [1.5510482441354, 72.950756316157, 0],\n",
       " [1.5765653263667, 74.750113664457, 0],\n",
       " [1.4916026885377, 65.880438515643, 0],\n",
       " [1.6755053770068, 78.901754249459, 1],\n",
       " [1.4805881225567, 69.652364469244, 0],\n",
       " [1.6343943760912, 73.998278712613, 0],\n",
       " [1.6338449829543, 79.216500811112, 0],\n",
       " [1.5014451222259, 66.917339299419, 0],\n",
       " [1.8575887178701, 79.942454850988, 1],\n",
       " [1.6805940669394, 78.213519314007, 0],\n",
       " [1.6888905106948, 83.031099742808, 1],\n",
       " [1.7055120272359, 84.233282531303, 1],\n",
       " [1.5681965896812, 74.753880204215, 0],\n",
       " [1.6857758389206, 84.014217544019, 0],\n",
       " [1.7767370337678, 75.709336556562, 1],\n",
       " [1.6760125952287, 74.034126149139, 1],\n",
       " [1.5999112612548, 72.040030344184, 1],\n",
       " [1.6770845322305, 76.149431872551, 1],\n",
       " [1.7596128136991, 87.366395298795, 1],\n",
       " [1.5344541456027, 73.832214971449, 0],\n",
       " [1.5992629534387, 82.4806916967, 0],\n",
       " [1.6714162787917, 67.986534194515, 0],\n",
       " [1.7070831676329, 78.269583353177, 1],\n",
       " [1.5691295338456, 81.09431696972, 1],\n",
       " [1.7767893419281, 76.910413184648, 1],\n",
       " [1.5448153215763, 76.888087599642, 0],\n",
       " [1.5452842691008, 69.761889289463, 0],\n",
       " [1.6469991919639, 82.289126983444, 0],\n",
       " [1.6353732734723, 77.829257585654, 0],\n",
       " [1.7175342426502, 85.002276406574, 1],\n",
       " [1.6163551692382, 77.247935733799, 1],\n",
       " [1.6876845881843, 85.616829192322, 1],\n",
       " [1.5472705508274, 64.474350365634, 0],\n",
       " [1.558229415357, 80.382011318379, 0],\n",
       " [1.6242189230632, 69.567339939973, 0],\n",
       " [1.8215645865237, 78.163631826626, 0],\n",
       " [1.6984142478298, 69.884030497097, 1],\n",
       " [1.6468551415123, 82.666468220128, 1],\n",
       " [1.5727791290292, 75.545348033094, 1],\n",
       " [1.8086593470477, 78.093913654921, 1],\n",
       " [1.613966988578, 76.083586505149, 0],\n",
       " [1.6603990297076, 70.539053122611, 1],\n",
       " [1.6737443242383, 66.042005829182, 0],\n",
       " [1.6824912337281, 81.061984274536, 1],\n",
       " [1.5301691510101, 77.26547501308, 1],\n",
       " [1.7392340943261, 92.752488433153, 1],\n",
       " [1.6427105169884, 83.322790265985, 1],\n",
       " [1.5889040551166, 74.848224733663, 0],\n",
       " [1.5051718284868, 80.078271153645, 0],\n",
       " [1.729420786579, 81.936423109142, 1],\n",
       " [1.7352568354092, 85.497712687992, 1],\n",
       " [1.5056950011245, 73.726557750383, 0],\n",
       " [1.772404089054, 75.534265951718, 1],\n",
       " [1.5212346939173, 74.355845722315, 0],\n",
       " [1.8184515409355, 85.705767969326, 1],\n",
       " [1.7307897479464, 84.277029918205, 0],\n",
       " [1.6372690389158, 72.289040612489, 1],\n",
       " [1.6856953072545, 70.406532419182, 0],\n",
       " [1.832494802635, 81.627925524191, 1],\n",
       " [1.5061197864796, 85.886760677468, 0],\n",
       " [1.5970906671458, 71.755566818152, 0],\n",
       " [1.6780459059283, 78.900587239209, 0],\n",
       " [1.6356901170146, 84.066566323977, 0],\n",
       " [1.6085494116591, 70.950456539016, 1],\n",
       " [1.5873479102442, 77.558144903338, 1],\n",
       " [1.7542078120838, 75.3117550236, 1],\n",
       " [1.642417315747, 67.97377818999, 0],\n",
       " [1.5744266340913, 81.767568318602, 1],\n",
       " [1.8470601407979, 68.606183538532, 0],\n",
       " [1.7119387468283, 80.560922353487, 0],\n",
       " [1.6169930563306, 75.538611935125, 1],\n",
       " [1.6355653058986, 78.49626023408, 1],\n",
       " [1.6035395957618, 79.226052358485, 1],\n",
       " [1.662787957279, 76.865925681154, 1],\n",
       " [1.5889291137091, 76.548543553914, 0],\n",
       " [1.9058127964477, 82.56539915922, 1],\n",
       " [1.694633493614, 62.870480634419, 0],\n",
       " [1.7635692396034, 82.479783004684, 1],\n",
       " [1.6645292231449, 75.838104636904, 0],\n",
       " [1.7201968406129, 81.134689293557, 0],\n",
       " [1.5775563651749, 65.920103519266, 0],\n",
       " [1.6521294216004, 83.312640709417, 1],\n",
       " [1.5597501915973, 76.475667826389, 0],\n",
       " [1.7847561120027, 83.363676219109, 1],\n",
       " [1.6765690500715, 73.98959022721, 1],\n",
       " [1.6749260607992, 73.687015573315, 0],\n",
       " [1.58582362825, 71.713707691505, 1],\n",
       " [1.5893375739649, 74.248033504548, 0],\n",
       " [1.6084440045081, 71.126430164213, 0],\n",
       " [1.6048804804343, 82.049319162211, 0],\n",
       " [1.5774196609804, 70.878214496062, 0],\n",
       " [1.6799586185525, 75.649534976838, 0],\n",
       " [1.7315642636281, 92.12183674186, 1],\n",
       " [1.5563282000349, 69.312673560451, 0],\n",
       " [1.7784349641893, 83.464562543, 1],\n",
       " [1.7270244609765, 76.599791001341, 0],\n",
       " [1.6372540837311, 74.746741127229, 0],\n",
       " [1.582550559056, 73.440027907722, 0],\n",
       " [1.722864383186, 79.37821152354, 0],\n",
       " [1.5247544081009, 70.601290492141, 0],\n",
       " [1.580858666774, 70.146982323579, 0],\n",
       " [1.703343390074, 90.153276095421, 0],\n",
       " [1.5339948635367, 59.675627532338, 0],\n",
       " [1.8095306490733, 86.001187990639, 1],\n",
       " [1.7454786971676, 85.212429336602, 1],\n",
       " [1.6343303342105, 85.46378358014, 1],\n",
       " [1.5983479173071, 79.323905480504, 0]]"
      ]
     },
     "execution_count": 22,
     "metadata": {},
     "output_type": "execute_result"
    }
   ],
   "source": [
    "pdata_age"
   ]
  },
  {
   "cell_type": "markdown",
   "id": "2600de0a",
   "metadata": {},
   "source": [
    "# After Removing the Age Column"
   ]
  },
  {
   "cell_type": "code",
   "execution_count": 23,
   "id": "7a1c807e",
   "metadata": {},
   "outputs": [
    {
     "name": "stdout",
     "output_type": "stream",
     "text": [
      "Scores: [50.0, 91.66666666666666, 75.0, 75.0, 58.333333333333336, 58.333333333333336, 91.66666666666666, 58.333333333333336, 83.33333333333334, 58.333333333333336]\n",
      "Mean Accuracy: 70.000%\n"
     ]
    }
   ],
   "source": [
    "dataset = pdata_age\n",
    "scores = evaluate_algorithm(dataset, naive_bayes, n_folds)\n",
    "print('Scores: %s' % scores)\n",
    "print('Mean Accuracy: %.3f%%' % (sum(scores)/float(len(scores))))\n",
    "\n",
    "# fit model\n",
    "model = summarize_by_class(dataset)"
   ]
  },
  {
   "cell_type": "code",
   "execution_count": 24,
   "id": "a35e1e17",
   "metadata": {},
   "outputs": [
    {
     "data": {
      "text/plain": [
       "['W', 'M', 'W', 'W']"
      ]
     },
     "execution_count": 24,
     "metadata": {},
     "output_type": "execute_result"
    }
   ],
   "source": [
    "dataset = test\n",
    "\n",
    "# evaluate algorithm\n",
    "# predict the label\n",
    "pred = []\n",
    "for i in range(len(dataset)):\n",
    "    label = predict(model, dataset[i])\n",
    "    pred.append(label_predict(label))\n",
    "pred"
   ]
  },
  {
   "cell_type": "markdown",
   "id": "d41137d9",
   "metadata": {},
   "source": [
    "# Value of kfold = 3"
   ]
  },
  {
   "cell_type": "code",
   "execution_count": 25,
   "id": "111ab1b6",
   "metadata": {},
   "outputs": [
    {
     "name": "stdout",
     "output_type": "stream",
     "text": [
      "Data=[1.5963600450124, 75.717194178189, 0], Predicted: W\n",
      "Data=[1.6990610819676, 83.477307503684, 1], Predicted: M\n",
      "Data=[1.5052092436, 74.642420817737, 0], Predicted: W\n",
      "Data=[1.5738635789008, 78.562465284603, 1], Predicted: W\n",
      "Data=[1.796178772769, 74.566117057707, 1], Predicted: M\n",
      "Data=[1.6274618774347, 82.250591567161, 0], Predicted: M\n",
      "Data=[1.6396843250708, 71.37567170848, 0], Predicted: W\n",
      "Data=[1.538505823668, 77.418902097029, 0], Predicted: W\n",
      "Data=[1.6488692005889, 76.333044488477, 0], Predicted: W\n",
      "Data=[1.7233804613095, 85.812112126306, 1], Predicted: M\n",
      "Data=[1.7389100516771, 76.424421782215, 0], Predicted: M\n",
      "Data=[1.5775696242624, 77.201404139171, 0], Predicted: W\n",
      "Data=[1.7359417237856, 77.004988515324, 1], Predicted: M\n",
      "Data=[1.5510482441354, 72.950756316157, 0], Predicted: W\n",
      "Data=[1.5765653263667, 74.750113664457, 0], Predicted: W\n",
      "Data=[1.4916026885377, 65.880438515643, 0], Predicted: W\n",
      "Data=[1.6755053770068, 78.901754249459, 1], Predicted: M\n",
      "Data=[1.4805881225567, 69.652364469244, 0], Predicted: W\n",
      "Data=[1.6343943760912, 73.998278712613, 0], Predicted: W\n",
      "Data=[1.6338449829543, 79.216500811112, 0], Predicted: W\n",
      "Data=[1.5014451222259, 66.917339299419, 0], Predicted: W\n",
      "Data=[1.8575887178701, 79.942454850988, 1], Predicted: M\n",
      "Data=[1.6805940669394, 78.213519314007, 0], Predicted: M\n",
      "Data=[1.6888905106948, 83.031099742808, 1], Predicted: M\n",
      "Data=[1.7055120272359, 84.233282531303, 1], Predicted: M\n",
      "Data=[1.5681965896812, 74.753880204215, 0], Predicted: W\n",
      "Data=[1.6857758389206, 84.014217544019, 0], Predicted: M\n",
      "Data=[1.7767370337678, 75.709336556562, 1], Predicted: M\n",
      "Data=[1.6760125952287, 74.034126149139, 1], Predicted: W\n",
      "Data=[1.5999112612548, 72.040030344184, 1], Predicted: W\n",
      "Data=[1.6770845322305, 76.149431872551, 1], Predicted: W\n",
      "Data=[1.7596128136991, 87.366395298795, 1], Predicted: M\n",
      "Data=[1.5344541456027, 73.832214971449, 0], Predicted: W\n",
      "Data=[1.5992629534387, 82.4806916967, 0], Predicted: W\n",
      "Data=[1.6714162787917, 67.986534194515, 0], Predicted: W\n",
      "Data=[1.7070831676329, 78.269583353177, 1], Predicted: M\n",
      "Data=[1.5691295338456, 81.09431696972, 1], Predicted: W\n",
      "Data=[1.7767893419281, 76.910413184648, 1], Predicted: M\n",
      "Data=[1.5448153215763, 76.888087599642, 0], Predicted: W\n",
      "Data=[1.5452842691008, 69.761889289463, 0], Predicted: W\n",
      "Data=[1.6469991919639, 82.289126983444, 0], Predicted: M\n",
      "Data=[1.6353732734723, 77.829257585654, 0], Predicted: W\n",
      "Data=[1.7175342426502, 85.002276406574, 1], Predicted: M\n",
      "Data=[1.6163551692382, 77.247935733799, 1], Predicted: W\n",
      "Data=[1.6876845881843, 85.616829192322, 1], Predicted: M\n",
      "Data=[1.5472705508274, 64.474350365634, 0], Predicted: W\n",
      "Data=[1.558229415357, 80.382011318379, 0], Predicted: W\n",
      "Data=[1.6242189230632, 69.567339939973, 0], Predicted: W\n",
      "Data=[1.8215645865237, 78.163631826626, 0], Predicted: M\n",
      "Data=[1.6984142478298, 69.884030497097, 1], Predicted: W\n",
      "Data=[1.6468551415123, 82.666468220128, 1], Predicted: M\n",
      "Data=[1.5727791290292, 75.545348033094, 1], Predicted: W\n",
      "Data=[1.8086593470477, 78.093913654921, 1], Predicted: M\n",
      "Data=[1.613966988578, 76.083586505149, 0], Predicted: W\n",
      "Data=[1.6603990297076, 70.539053122611, 1], Predicted: W\n",
      "Data=[1.6737443242383, 66.042005829182, 0], Predicted: W\n",
      "Data=[1.6824912337281, 81.061984274536, 1], Predicted: M\n",
      "Data=[1.5301691510101, 77.26547501308, 1], Predicted: W\n",
      "Data=[1.7392340943261, 92.752488433153, 1], Predicted: M\n",
      "Data=[1.6427105169884, 83.322790265985, 1], Predicted: M\n",
      "Data=[1.5889040551166, 74.848224733663, 0], Predicted: W\n",
      "Data=[1.5051718284868, 80.078271153645, 0], Predicted: W\n",
      "Data=[1.729420786579, 81.936423109142, 1], Predicted: M\n",
      "Data=[1.7352568354092, 85.497712687992, 1], Predicted: M\n",
      "Data=[1.5056950011245, 73.726557750383, 0], Predicted: W\n",
      "Data=[1.772404089054, 75.534265951718, 1], Predicted: M\n",
      "Data=[1.5212346939173, 74.355845722315, 0], Predicted: W\n",
      "Data=[1.8184515409355, 85.705767969326, 1], Predicted: M\n",
      "Data=[1.7307897479464, 84.277029918205, 0], Predicted: M\n",
      "Data=[1.6372690389158, 72.289040612489, 1], Predicted: W\n",
      "Data=[1.6856953072545, 70.406532419182, 0], Predicted: W\n",
      "Data=[1.832494802635, 81.627925524191, 1], Predicted: M\n",
      "Data=[1.5061197864796, 85.886760677468, 0], Predicted: W\n",
      "Data=[1.5970906671458, 71.755566818152, 0], Predicted: W\n",
      "Data=[1.6780459059283, 78.900587239209, 0], Predicted: M\n",
      "Data=[1.6356901170146, 84.066566323977, 0], Predicted: M\n",
      "Data=[1.6085494116591, 70.950456539016, 1], Predicted: W\n",
      "Data=[1.5873479102442, 77.558144903338, 1], Predicted: W\n",
      "Data=[1.7542078120838, 75.3117550236, 1], Predicted: M\n",
      "Data=[1.642417315747, 67.97377818999, 0], Predicted: W\n",
      "Data=[1.5744266340913, 81.767568318602, 1], Predicted: W\n",
      "Data=[1.8470601407979, 68.606183538532, 0], Predicted: M\n",
      "Data=[1.7119387468283, 80.560922353487, 0], Predicted: M\n",
      "Data=[1.6169930563306, 75.538611935125, 1], Predicted: W\n",
      "Data=[1.6355653058986, 78.49626023408, 1], Predicted: W\n",
      "Data=[1.6035395957618, 79.226052358485, 1], Predicted: W\n",
      "Data=[1.662787957279, 76.865925681154, 1], Predicted: W\n",
      "Data=[1.5889291137091, 76.548543553914, 0], Predicted: W\n",
      "Data=[1.9058127964477, 82.56539915922, 1], Predicted: M\n",
      "Data=[1.694633493614, 62.870480634419, 0], Predicted: W\n",
      "Data=[1.7635692396034, 82.479783004684, 1], Predicted: M\n",
      "Data=[1.6645292231449, 75.838104636904, 0], Predicted: W\n",
      "Data=[1.7201968406129, 81.134689293557, 0], Predicted: M\n",
      "Data=[1.5775563651749, 65.920103519266, 0], Predicted: W\n",
      "Data=[1.6521294216004, 83.312640709417, 1], Predicted: M\n",
      "Data=[1.5597501915973, 76.475667826389, 0], Predicted: W\n",
      "Data=[1.7847561120027, 83.363676219109, 1], Predicted: M\n",
      "Data=[1.6765690500715, 73.98959022721, 1], Predicted: W\n",
      "Data=[1.6749260607992, 73.687015573315, 0], Predicted: W\n",
      "Data=[1.58582362825, 71.713707691505, 1], Predicted: W\n",
      "Data=[1.5893375739649, 74.248033504548, 0], Predicted: W\n",
      "Data=[1.6084440045081, 71.126430164213, 0], Predicted: W\n",
      "Data=[1.6048804804343, 82.049319162211, 0], Predicted: W\n",
      "Data=[1.5774196609804, 70.878214496062, 0], Predicted: W\n",
      "Data=[1.6799586185525, 75.649534976838, 0], Predicted: W\n",
      "Data=[1.7315642636281, 92.12183674186, 1], Predicted: M\n",
      "Data=[1.5563282000349, 69.312673560451, 0], Predicted: W\n",
      "Data=[1.7784349641893, 83.464562543, 1], Predicted: M\n",
      "Data=[1.7270244609765, 76.599791001341, 0], Predicted: M\n",
      "Data=[1.6372540837311, 74.746741127229, 0], Predicted: W\n",
      "Data=[1.582550559056, 73.440027907722, 0], Predicted: W\n",
      "Data=[1.722864383186, 79.37821152354, 0], Predicted: M\n",
      "Data=[1.5247544081009, 70.601290492141, 0], Predicted: W\n",
      "Data=[1.580858666774, 70.146982323579, 0], Predicted: W\n",
      "Data=[1.703343390074, 90.153276095421, 0], Predicted: M\n",
      "Data=[1.5339948635367, 59.675627532338, 0], Predicted: W\n",
      "Data=[1.8095306490733, 86.001187990639, 1], Predicted: M\n",
      "Data=[1.7454786971676, 85.212429336602, 1], Predicted: M\n",
      "Data=[1.6343303342105, 85.46378358014, 1], Predicted: M\n",
      "Data=[1.5983479173071, 79.323905480504, 0], Predicted: W\n",
      "Scores: [70.0, 75.0, 67.5]\n",
      "Mean Accuracy: 70.833%\n"
     ]
    }
   ],
   "source": [
    "# fit model\n",
    "model = summarize_by_class(pdata)\n",
    "# predict the label\n",
    "for i in range(len(pdata)):\n",
    "    label = predict(model, pdata[i])\n",
    "    l = label_predict(label)\n",
    "    print('Data=%s, Predicted: %s' % (pdata[i], l))\n",
    "scores = evaluate_algorithm(pdata, naive_bayes, 3)\n",
    "print('Scores: %s' % scores)\n",
    "print('Mean Accuracy: %.3f%%' % (sum(scores)/float(len(scores))))"
   ]
  },
  {
   "cell_type": "markdown",
   "id": "f9577ff6",
   "metadata": {},
   "source": [
    "# Input the Text File"
   ]
  },
  {
   "cell_type": "code",
   "execution_count": null,
   "id": "8ed39142",
   "metadata": {},
   "outputs": [],
   "source": [
    "txt_file = input('Enter the path of the text file')\n",
    "print(txt_file)\n",
    "\n",
    "File_data = np.genfromtxt(txt_file, dtype=str,usecols=(1,2,3))\n",
    "row = (line.replace('(','').replace(')','') for line in File_data if line)\n",
    "\n",
    "list2 = []\n",
    "with open(txt_file,'r') as in_file:\n",
    "    stripped = (line.strip() for line in in_file)\n",
    "    row = (line.replace('(','').replace(')','') for line in stripped if line)\n",
    "    lines = (line.split(\",\") for line in row if line)\n",
    "    for i in lines:\n",
    "        list2.append(i)\n",
    "        \n",
    "b = np.array(list2)\n",
    "rows = [\"{},{},{},{}\".format(i, j, k,l) for i, j, k,l in b]\n",
    "text = \"\\n\".join(rows)"
   ]
  },
  {
   "cell_type": "markdown",
   "id": "9a90106f",
   "metadata": {},
   "source": [
    "# Export the csv file user defined"
   ]
  },
  {
   "cell_type": "code",
   "execution_count": null,
   "id": "ee41776f",
   "metadata": {},
   "outputs": [],
   "source": [
    "name = input('Enter the csv filename')\n",
    "filename = '%s.csv' % name"
   ]
  },
  {
   "cell_type": "code",
   "execution_count": null,
   "id": "84b6a1b7",
   "metadata": {},
   "outputs": [],
   "source": [
    "with open(filename, 'w') as f:\n",
    "    f.write(text)\n",
    "\n",
    "with open(filename, 'r') as file:\n",
    "    pdata = []\n",
    "    for line in file:\n",
    "        string = line.strip()\n",
    "        words = string.split(',')\n",
    "        pdata.append(words)"
   ]
  },
  {
   "cell_type": "code",
   "execution_count": null,
   "id": "9735dce3",
   "metadata": {},
   "outputs": [],
   "source": [
    "dataset = pdata\n",
    "for i in range(len(dataset[0])-1):\n",
    "    str_column_to_float(dataset, i)\n",
    "# convert class column to integers\n",
    "str_column_to_int(dataset, len(dataset[0])-1)"
   ]
  },
  {
   "cell_type": "code",
   "execution_count": null,
   "id": "295779d7",
   "metadata": {},
   "outputs": [],
   "source": [
    "# predict the label\n",
    "for i in range(len(pdata)):\n",
    "    label = predict(model, pdata[i])\n",
    "    l = label_predict(label)\n",
    "    print('Data=%s, Predicted: %s' % (pdata[i], l))\n",
    "scores = evaluate_algorithm(pdata, naive_bayes, 3)\n",
    "print('Scores: %s' % scores)\n",
    "print('Mean Accuracy: %.3f%%' % (sum(scores)/float(len(scores))))"
   ]
  },
  {
   "cell_type": "code",
   "execution_count": null,
   "id": "92e4263b",
   "metadata": {},
   "outputs": [],
   "source": [
    "model = summarize_by_class(pdata)"
   ]
  },
  {
   "cell_type": "code",
   "execution_count": null,
   "id": "7e301d9c",
   "metadata": {},
   "outputs": [],
   "source": [
    "dataset = test\n",
    "\n",
    "# evaluate algorithm\n",
    "# predict the label\n",
    "pred = []\n",
    "for i in range(len(dataset)):\n",
    "    label = predict(model, dataset[i])\n",
    "    pred.append(label_predict(label))\n",
    "pred"
   ]
  },
  {
   "cell_type": "code",
   "execution_count": null,
   "id": "e35b1609",
   "metadata": {},
   "outputs": [],
   "source": []
  }
 ],
 "metadata": {
  "kernelspec": {
   "display_name": "Python 3 (ipykernel)",
   "language": "python",
   "name": "python3"
  },
  "language_info": {
   "codemirror_mode": {
    "name": "ipython",
    "version": 3
   },
   "file_extension": ".py",
   "mimetype": "text/x-python",
   "name": "python",
   "nbconvert_exporter": "python",
   "pygments_lexer": "ipython3",
   "version": "3.9.12"
  }
 },
 "nbformat": 4,
 "nbformat_minor": 5
}
